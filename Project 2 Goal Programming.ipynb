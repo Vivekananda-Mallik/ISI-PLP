{
 "cells": [
  {
   "cell_type": "raw",
   "id": "2782659e",
   "metadata": {},
   "source": [
    "Import Library"
   ]
  },
  {
   "cell_type": "code",
   "execution_count": 1,
   "id": "b216ed22",
   "metadata": {},
   "outputs": [],
   "source": [
    "import pulp"
   ]
  },
  {
   "cell_type": "raw",
   "id": "1a3d6b7b",
   "metadata": {},
   "source": [
    "Dataset"
   ]
  },
  {
   "cell_type": "raw",
   "id": "90a9694e",
   "metadata": {},
   "source": [
    "Customer Zone, Collection center, Recycle, Retailer, Service center, Manufaturing center, Distribution center"
   ]
  },
  {
   "cell_type": "code",
   "execution_count": 2,
   "id": "cba2948e",
   "metadata": {},
   "outputs": [],
   "source": [
    "C = ['A', 'B', 'C']  \n",
    "N = ['N1', 'N2']     \n",
    "R = ['R1', 'R2']     \n",
    "S = ['S1', 'S2']     \n",
    "K = ['K1', 'K2']     \n",
    "I = ['I1', 'I2']     \n",
    "D = ['d1', 'd2']        "
   ]
  },
  {
   "cell_type": "raw",
   "id": "e00049ad",
   "metadata": {},
   "source": [
    "Demand at Customer Zone"
   ]
  },
  {
   "cell_type": "code",
   "execution_count": 3,
   "id": "76bc9e1a",
   "metadata": {},
   "outputs": [],
   "source": [
    "D_c = {'A': 15, 'B': 20, 'C': 18}"
   ]
  },
  {
   "cell_type": "raw",
   "id": "f3784477",
   "metadata": {},
   "source": [
    "Capacity of different centers"
   ]
  },
  {
   "cell_type": "code",
   "execution_count": 4,
   "id": "e3caef47",
   "metadata": {},
   "outputs": [],
   "source": [
    "Cap_n = {'N1': 300, 'N2': 350} \n",
    "Cap_r = {'R1': 800, 'R2': 900}    \n",
    "Cap_s = {'S1': 500, 'S2': 750}    \n",
    "Cap_i = {'I1': 200, 'I2': 250}  \n",
    "Cap_d = {'d1': 150, 'd2': 180} "
   ]
  },
  {
   "cell_type": "raw",
   "id": "5985ecb4",
   "metadata": {},
   "source": [
    "Fixed cost of establishment"
   ]
  },
  {
   "cell_type": "code",
   "execution_count": 5,
   "id": "db9b24f1",
   "metadata": {},
   "outputs": [],
   "source": [
    "F_s = {'S1': 50, 'S2': 60}      \n",
    "F_n = {'N1': 40, 'N2': 45}     \n",
    "F_r = {'R1': 70, 'R2': 65}      "
   ]
  },
  {
   "cell_type": "raw",
   "id": "3e3e1101",
   "metadata": {},
   "source": [
    "Number of Products to be returned from customer zone"
   ]
  },
  {
   "cell_type": "code",
   "execution_count": 6,
   "id": "c31bc96b",
   "metadata": {},
   "outputs": [],
   "source": [
    "R_c = {'A': 200, 'B': 150, 'C': 180} "
   ]
  },
  {
   "cell_type": "raw",
   "id": "6b228736",
   "metadata": {},
   "source": [
    "Proportion"
   ]
  },
  {
   "cell_type": "raw",
   "id": "71ebd6e9",
   "metadata": {},
   "source": [
    "Fraction to recycling centers"
   ]
  },
  {
   "cell_type": "code",
   "execution_count": 7,
   "id": "aa97be8a",
   "metadata": {},
   "outputs": [],
   "source": [
    "delta = 0.1"
   ]
  },
  {
   "cell_type": "raw",
   "id": "bc61f84e",
   "metadata": {},
   "source": [
    "Fraction to refurbished"
   ]
  },
  {
   "cell_type": "code",
   "execution_count": 8,
   "id": "a07d24e8",
   "metadata": {},
   "outputs": [],
   "source": [
    "gamma = 0.4"
   ]
  },
  {
   "cell_type": "raw",
   "id": "73fc042f",
   "metadata": {},
   "source": [
    "Fraction to repairable"
   ]
  },
  {
   "cell_type": "code",
   "execution_count": 9,
   "id": "1883e0a5",
   "metadata": {},
   "outputs": [],
   "source": [
    "eta = 0.3 "
   ]
  },
  {
   "cell_type": "raw",
   "id": "1ab398fc",
   "metadata": {},
   "source": [
    "Fraction to commercial returns"
   ]
  },
  {
   "cell_type": "code",
   "execution_count": 10,
   "id": "921a575c",
   "metadata": {},
   "outputs": [],
   "source": [
    "lambda_ = 0.2"
   ]
  },
  {
   "cell_type": "raw",
   "id": "0e029c12",
   "metadata": {},
   "source": [
    "Fraction to DISPOSAL"
   ]
  },
  {
   "cell_type": "code",
   "execution_count": 11,
   "id": "b5a29f7f",
   "metadata": {},
   "outputs": [],
   "source": [
    "beta = 0.1 "
   ]
  },
  {
   "cell_type": "raw",
   "id": "99b32e75",
   "metadata": {},
   "source": [
    "Transportation cost from customer to collection center"
   ]
  },
  {
   "cell_type": "code",
   "execution_count": 12,
   "id": "14179dd3",
   "metadata": {},
   "outputs": [],
   "source": [
    "TC_cn = {\n",
    "    ('A', 'N1'): 10, ('A', 'N2'): 12, \n",
    "    ('B', 'N1'): 11, ('B', 'N2'): 13, \n",
    "    ('C', 'N1'): 9,  ('C', 'N2'): 14\n",
    "}"
   ]
  },
  {
   "cell_type": "raw",
   "id": "2c02fe16",
   "metadata": {},
   "source": [
    "Transportation cost from collection center to recyle"
   ]
  },
  {
   "cell_type": "code",
   "execution_count": 13,
   "id": "2f89ec79",
   "metadata": {},
   "outputs": [],
   "source": [
    "TC_nr = {\n",
    "    ('N1', 'R1'): 15, ('N1', 'R2'): 18, \n",
    "    ('N2', 'R1'): 17, ('N2', 'R2'): 20\n",
    "}"
   ]
  },
  {
   "cell_type": "raw",
   "id": "1868b0a8",
   "metadata": {},
   "source": [
    "Transportation cost from rcycle to manufaturing center"
   ]
  },
  {
   "cell_type": "code",
   "execution_count": 14,
   "id": "0e42810c",
   "metadata": {},
   "outputs": [],
   "source": [
    "TC_ri = {\n",
    "    ('R1', 'I1'): 8, ('R1', 'I2'): 10, \n",
    "    ('R2', 'I1'): 9, ('R2', 'I2'): 12\n",
    "}"
   ]
  },
  {
   "cell_type": "raw",
   "id": "f7d126a0",
   "metadata": {},
   "source": [
    "Transportation cost from  collection center to service center"
   ]
  },
  {
   "cell_type": "code",
   "execution_count": 15,
   "id": "96271db3",
   "metadata": {},
   "outputs": [],
   "source": [
    "TC_ns = {\n",
    "    ('N1', 'S1'): 6, ('N1', 'S2'): 8, \n",
    "    ('N2', 'S1'): 7, ('N2', 'S2'): 9\n",
    "}"
   ]
  },
  {
   "cell_type": "raw",
   "id": "b108253a",
   "metadata": {},
   "source": [
    "Transportation cost from collection center to retailer"
   ]
  },
  {
   "cell_type": "code",
   "execution_count": 16,
   "id": "fa0678ff",
   "metadata": {},
   "outputs": [],
   "source": [
    "TC_nk = {\n",
    "    ('N1', 'K1'): 7, ('N1', 'K2'): 10, \n",
    "    ('N2', 'K1'): 8, ('N2', 'K2'): 11\n",
    "}"
   ]
  },
  {
   "cell_type": "raw",
   "id": "35e3a4e2",
   "metadata": {},
   "source": [
    "Transportation cost from service center to retailer"
   ]
  },
  {
   "cell_type": "code",
   "execution_count": 17,
   "id": "b971ba7e",
   "metadata": {},
   "outputs": [],
   "source": [
    "TC_sk = {\n",
    "    ('S1', 'K1'): 9, ('S1', 'K2'): 12, \n",
    "    ('S2', 'K1'): 10, ('S2', 'K2'): 13\n",
    "}\n"
   ]
  },
  {
   "cell_type": "raw",
   "id": "5402231e",
   "metadata": {},
   "source": [
    "Transportation cost from service center to customer"
   ]
  },
  {
   "cell_type": "code",
   "execution_count": 18,
   "id": "7414a6cf",
   "metadata": {},
   "outputs": [],
   "source": [
    "TC_sc = {\n",
    "    ('S1', 'A'): 4, ('S1', 'B'): 7, ('S1', 'C'): 7,\n",
    "    ('S2', 'A'): 5, ('S2', 'B'): 8, ('S2', 'C'): 7,\n",
    "}"
   ]
  },
  {
   "cell_type": "raw",
   "id": "feb8c799",
   "metadata": {},
   "source": [
    "Transportation cost from  manufaturing center to distribution center"
   ]
  },
  {
   "cell_type": "code",
   "execution_count": 19,
   "id": "b1aced30",
   "metadata": {},
   "outputs": [],
   "source": [
    "T_id = {('I1', 'd1'): 5, ('I1', 'd2'): 6, ('I2', 'd1'): 4, ('I2', 'd2'): 7}"
   ]
  },
  {
   "cell_type": "raw",
   "id": "9bd2699a",
   "metadata": {},
   "source": [
    "Transportation cost from  distribution center to retailer"
   ]
  },
  {
   "cell_type": "code",
   "execution_count": 20,
   "id": "0970672d",
   "metadata": {},
   "outputs": [],
   "source": [
    "T_dk = {('d1', 'K1'): 3, ('d1', 'K2'): 5, ('d2', 'K1'): 4, ('d2', 'K2'): 6}"
   ]
  },
  {
   "cell_type": "raw",
   "id": "f4204ebe",
   "metadata": {},
   "source": [
    "Transportation cost from retailer to customer zone"
   ]
  },
  {
   "cell_type": "code",
   "execution_count": 21,
   "id": "ffe7101e",
   "metadata": {},
   "outputs": [],
   "source": [
    "T_kc = {\n",
    "    ('K1', 'A'): 10, ('K1', 'B'): 12, ('K1', 'C'): 15,\n",
    "    ('K2', 'A'): 9,  ('K2', 'B'): 11, ('K2', 'C'): 14\n",
    "}"
   ]
  },
  {
   "cell_type": "raw",
   "id": "6bd04384",
   "metadata": {},
   "source": [
    "Transportation cost to disposal center"
   ]
  },
  {
   "cell_type": "code",
   "execution_count": 22,
   "id": "8a4b7495",
   "metadata": {},
   "outputs": [],
   "source": [
    "TC_dis = 5"
   ]
  },
  {
   "cell_type": "raw",
   "id": "509ef7fd",
   "metadata": {},
   "source": [
    "Recyling cost at recycle center"
   ]
  },
  {
   "cell_type": "code",
   "execution_count": 23,
   "id": "dc58a8de",
   "metadata": {},
   "outputs": [],
   "source": [
    "C_r = {\n",
    "    \"R1\": 10,  \n",
    "    \"R2\": 15,  \n",
    "    \"R3\": 12  \n",
    "}"
   ]
  },
  {
   "cell_type": "raw",
   "id": "9929c867",
   "metadata": {},
   "source": [
    "Repair cost at service center"
   ]
  },
  {
   "cell_type": "code",
   "execution_count": 24,
   "id": "29699341",
   "metadata": {},
   "outputs": [],
   "source": [
    "CR_s = {\n",
    "    \"S1\": 8,   \n",
    "    \"S2\": 7,   \n",
    "    \"S3\": 9    \n",
    "}"
   ]
  },
  {
   "cell_type": "raw",
   "id": "ef8906f3",
   "metadata": {},
   "source": [
    "Refurbishing cost at service center"
   ]
  },
  {
   "cell_type": "code",
   "execution_count": 25,
   "id": "023cde89",
   "metadata": {},
   "outputs": [],
   "source": [
    "CF_s = {\n",
    "    \"S1\": 20, \n",
    "    \"S2\": 25,  \n",
    "    \"S3\": 22   \n",
    "}\n"
   ]
  },
  {
   "cell_type": "raw",
   "id": "5a26261e",
   "metadata": {},
   "source": [
    "Remanufaturing cost"
   ]
  },
  {
   "cell_type": "code",
   "execution_count": 26,
   "id": "e1178650",
   "metadata": {},
   "outputs": [],
   "source": [
    "CI_i = {'I1': 20, 'I2': 25}"
   ]
  },
  {
   "cell_type": "raw",
   "id": "267c2e7b",
   "metadata": {},
   "source": [
    "Carbon footprint of Light Vehicle"
   ]
  },
  {
   "cell_type": "code",
   "execution_count": 27,
   "id": "aca1cca2",
   "metadata": {},
   "outputs": [],
   "source": [
    "C_EL = 2.5"
   ]
  },
  {
   "cell_type": "raw",
   "id": "a0c1b2da",
   "metadata": {},
   "source": [
    "Carbon footprint of Medium Vehicle"
   ]
  },
  {
   "cell_type": "code",
   "execution_count": 28,
   "id": "3fe214e2",
   "metadata": {},
   "outputs": [],
   "source": [
    "C_EM = 5.0"
   ]
  },
  {
   "cell_type": "raw",
   "id": "4b2105f5",
   "metadata": {},
   "source": [
    "Carbon footprint of Heavy Vehicle"
   ]
  },
  {
   "cell_type": "code",
   "execution_count": 29,
   "id": "9c7356cf",
   "metadata": {},
   "outputs": [],
   "source": [
    "C_EH = 8.0"
   ]
  },
  {
   "cell_type": "raw",
   "id": "adb5cdcd",
   "metadata": {},
   "source": [
    "Maximum allowable limit of emission of heavy vehicle"
   ]
  },
  {
   "cell_type": "code",
   "execution_count": 30,
   "id": "8c0a3625",
   "metadata": {},
   "outputs": [],
   "source": [
    "C_EH_Max= 1000"
   ]
  },
  {
   "cell_type": "raw",
   "id": "47154230",
   "metadata": {},
   "source": [
    "Define model"
   ]
  },
  {
   "cell_type": "code",
   "execution_count": 31,
   "id": "67d4f569",
   "metadata": {},
   "outputs": [],
   "source": [
    "model = pulp.LpProblem(\"Reverse_Logistics_Network\", pulp.LpMinimize)"
   ]
  },
  {
   "cell_type": "raw",
   "id": "bbee6961",
   "metadata": {},
   "source": [
    "Decision variables"
   ]
  },
  {
   "cell_type": "code",
   "execution_count": 32,
   "id": "03554765",
   "metadata": {},
   "outputs": [],
   "source": [
    "Q_cn = pulp.LpVariable.dicts(\"Q_cn\", ((c, n) for c in C for n in N), lowBound=0)\n",
    "Q_nr = pulp.LpVariable.dicts(\"Q_nr\", ((n, r) for n in N for r in R), lowBound=0)\n",
    "Q_ri = pulp.LpVariable.dicts(\"Q_ri\", ((r, i) for r in R for i in I), lowBound=0)\n",
    "Q_ns = pulp.LpVariable.dicts(\"Q_ns\", ((n, s) for n in N for s in S), lowBound=0)\n",
    "Q_nk = pulp.LpVariable.dicts(\"Q_nk\", ((n, k) for n in N for k in K), lowBound=0)\n",
    "Q_sk = pulp.LpVariable.dicts(\"Q_sk\", ((s, k) for s in S for k in K), lowBound=0)\n",
    "Q_sc = pulp.LpVariable.dicts(\"Q_sc\", ((s, c) for s in S for c in C), lowBound=0)\n",
    "Q_id = pulp.LpVariable.dicts(\"Q_id\", ((i, d) for i in I for d in D), lowBound=0)\n",
    "Q_dk = pulp.LpVariable.dicts(\"Q_dk\", ((d, k) for d in D for k in K), lowBound=0) \n",
    "Q_kc= pulp. LpVariable.dicts(\"Q_kc\", ((k, c) for k in K for c in C), lowBound=0) \n",
    "\n",
    "X_s = pulp.LpVariable.dicts(\"X_s\", S, cat=\"Binary\")\n",
    "X_n = pulp.LpVariable.dicts(\"X_n\", N, cat=\"Binary\")\n",
    "X_r = pulp.LpVariable.dicts(\"X_r\", R, cat=\"Binary\")"
   ]
  },
  {
   "cell_type": "raw",
   "id": "26be2579",
   "metadata": {},
   "source": [
    "First objective function (Cost)"
   ]
  },
  {
   "cell_type": "code",
   "execution_count": 33,
   "id": "522016e2",
   "metadata": {},
   "outputs": [],
   "source": [
    "model += (\n",
    "    pulp.lpSum(TC_cn[c, n] * Q_cn[c, n] for c in C for n in N) +\n",
    "    pulp.lpSum(TC_nr[n, r] * Q_nr[n, r] for n in N for r in R) +\n",
    "    pulp.lpSum(TC_ri[r, i] * Q_ri[r, i] for r in R for i in I) +\n",
    "    pulp.lpSum(TC_ns[n, s] * Q_ns[n, s] for n in N for s in S) +\n",
    "    pulp.lpSum(TC_nk[n, k] * Q_nk[n, k] for n in N for k in K) +\n",
    "    pulp.lpSum(TC_sk[s, k] * Q_sk[s, k] for s in S for k in K) +\n",
    "    pulp.lpSum(TC_sc[s, c] * Q_sc[s, c] for s in S for c in C) +\n",
    "    TC_dis * (pulp.lpSum(Q_nr[n, r] for n in N for r in R) - pulp.lpSum(Q_ri[r, i] for r in R for i in I)) +\n",
    "    pulp.lpSum(T_id[i, d] * Q_id[i, d] for i in I for d in D) +\n",
    "    pulp.lpSum(T_dk[d, k] * Q_dk[d, k] for d in D for k in K) +\n",
    "    pulp.lpSum(Q_kc[k, c] * T_kc[k, c] for k in K for c in C) +\n",
    "    pulp.lpSum(F_s[s] * X_s[s] for s in S) +\n",
    "    pulp.lpSum(F_n[n] * X_n[n] for n in N) +\n",
    "    pulp.lpSum(F_r[r] * X_r[r] for r in R) +\n",
    "    pulp.lpSum(C_r[r] * Q_ri[r, i] for r in R for i in I) +\n",
    "    pulp.lpSum(CR_s[s] * Q_sc[s, c] for s in S for c in C) +\n",
    "    pulp.lpSum(CF_s[s] * Q_sk[s, k] for s in S for k in K) +\n",
    "    pulp.lpSum(CI_i[i] * Q_id[i, d] for i in I for d in D) \n",
    ")"
   ]
  },
  {
   "cell_type": "raw",
   "id": "85ce994a",
   "metadata": {},
   "source": [
    "Second objective function"
   ]
  },
  {
   "cell_type": "code",
   "execution_count": 34,
   "id": "4b91adb2",
   "metadata": {},
   "outputs": [
    {
     "name": "stderr",
     "output_type": "stream",
     "text": [
      "C:\\Users\\biley\\AppData\\Local\\Programs\\Python\\Python310\\lib\\site-packages\\pulp\\pulp.py:1650: UserWarning: Overwriting previously set objective.\n",
      "  warnings.warn(\"Overwriting previously set objective.\")\n"
     ]
    }
   ],
   "source": [
    "model += (\n",
    "    C_EL * (\n",
    "        pulp.lpSum(Q_kc[k, c] for k in K for c in C) +\n",
    "        pulp.lpSum(Q_cn[c, n] for c in C for n in N) +\n",
    "        pulp.lpSum(Q_ns[n, s] for n in N for s in S) +\n",
    "        pulp.lpSum(Q_sk[s, k] for s in S for k in K) +\n",
    "        pulp.lpSum(Q_sc[s, c] for s in S for c in C) +\n",
    "        pulp.lpSum(Q_nk[n, k] for n in N for k in K)\n",
    "    ) +\n",
    "    C_EM * (\n",
    "        pulp.lpSum(Q_dk[d, k] for d in D for k in K) +\n",
    "        pulp.lpSum(Q_nr[n, r] for n in N for r in R)\n",
    "    ) +\n",
    "    C_EH * (\n",
    "        pulp.lpSum(Q_ri[r, i] for r in R for i in I) +\n",
    "        pulp.lpSum(Q_id[i, d] for i in I for d in D)\n",
    "    )\n",
    ")"
   ]
  },
  {
   "cell_type": "raw",
   "id": "001acf47",
   "metadata": {},
   "source": [
    "Goal"
   ]
  },
  {
   "cell_type": "code",
   "execution_count": 35,
   "id": "3eb5c4d2",
   "metadata": {},
   "outputs": [],
   "source": [
    "goal_cost = 28000  \n",
    "goal_emissions = 4100  "
   ]
  },
  {
   "cell_type": "raw",
   "id": "7291188c",
   "metadata": {},
   "source": [
    "Decision variables for deviations"
   ]
  },
  {
   "cell_type": "code",
   "execution_count": 36,
   "id": "22131803",
   "metadata": {},
   "outputs": [],
   "source": [
    "d_cost_minus = pulp.LpVariable(\"d_cost_minus\", lowBound=0)\n",
    "d_cost_plus = pulp.LpVariable(\"d_cost_plus\", lowBound=0)\n",
    "d_emissions_minus = pulp.LpVariable(\"d_emissions_minus\", lowBound=0)\n",
    "d_emissions_plus = pulp.LpVariable(\"d_emissions_plus\", lowBound=0)"
   ]
  },
  {
   "cell_type": "raw",
   "id": "f81d8759",
   "metadata": {},
   "source": [
    "minimize the sum of the deviations"
   ]
  },
  {
   "cell_type": "code",
   "execution_count": 37,
   "id": "0edf38e3",
   "metadata": {},
   "outputs": [],
   "source": [
    "model +=  d_cost_plus  + d_emissions_plus"
   ]
  },
  {
   "cell_type": "raw",
   "id": "cbd580ae",
   "metadata": {},
   "source": [
    "Constraints"
   ]
  },
  {
   "cell_type": "code",
   "execution_count": 38,
   "id": "0d9bce3d",
   "metadata": {},
   "outputs": [],
   "source": [
    "model += (\n",
    "    pulp.lpSum(TC_cn[c, n] * Q_cn[c, n] for c in C for n in N) +\n",
    "    pulp.lpSum(TC_nr[n, r] * Q_nr[n, r] for n in N for r in R) +\n",
    "    pulp.lpSum(TC_ri[r, i] * Q_ri[r, i] for r in R for i in I) +\n",
    "    pulp.lpSum(TC_ns[n, s] * Q_ns[n, s] for n in N for s in S) +\n",
    "    pulp.lpSum(TC_nk[n, k] * Q_nk[n, k] for n in N for k in K) +\n",
    "    pulp.lpSum(TC_sk[s, k] * Q_sk[s, k] for s in S for k in K) +\n",
    "    pulp.lpSum(TC_sc[s, c] * Q_sc[s, c] for s in S for c in C) +\n",
    "    TC_dis * (pulp.lpSum(Q_nr[n, r] for n in N for r in R) - pulp.lpSum(Q_ri[r, i] for r in R for i in I)) +\n",
    "    pulp.lpSum(T_id[i, d] * Q_id[i, d] for i in I for d in D) +\n",
    "    pulp.lpSum(T_dk[d, k] * Q_dk[d, k] for d in D for k in K) +\n",
    "    pulp.lpSum(Q_kc[k, c] * T_kc[k, c] for k in K for c in C) +\n",
    "    pulp.lpSum(F_s[s] * X_s[s] for s in S) +\n",
    "    pulp.lpSum(F_n[n] * X_n[n] for n in N) +\n",
    "    pulp.lpSum(F_r[r] * X_r[r] for r in R) +\n",
    "    pulp.lpSum(C_r[r] * Q_ri[r, i] for r in R for i in I) +\n",
    "    pulp.lpSum(CR_s[s] * Q_sc[s, c] for s in S for c in C) +\n",
    "    pulp.lpSum(CF_s[s] * Q_sk[s, k] for s in S for k in K) +\n",
    "    pulp.lpSum(CI_i[i] * Q_id[i, d] for i in I for d in D)\n",
    " + d_cost_minus - d_cost_plus) == goal_cost "
   ]
  },
  {
   "cell_type": "code",
   "execution_count": 39,
   "id": "6fb0af2f",
   "metadata": {},
   "outputs": [],
   "source": [
    "model += (\n",
    "    C_EL * (\n",
    "        pulp.lpSum(Q_kc[k, c] for k in K for c in C) +\n",
    "        pulp.lpSum(Q_cn[c, n] for c in C for n in N) +\n",
    "        pulp.lpSum(Q_ns[n, s] for n in N for s in S) +\n",
    "        pulp.lpSum(Q_sk[s, k] for s in S for k in K) +\n",
    "        pulp.lpSum(Q_sc[s, c] for s in S for c in C) +\n",
    "        pulp.lpSum(Q_nk[n, k] for n in N for k in K)\n",
    "    ) +\n",
    "    C_EM * (\n",
    "        pulp.lpSum(Q_dk[d, k] for d in D for k in K) +\n",
    "        pulp.lpSum(Q_nr[n, r] for n in N for r in R)\n",
    "    ) +\n",
    "    C_EH * (\n",
    "        pulp.lpSum(Q_ri[r, i] for r in R for i in I) +\n",
    "        pulp.lpSum(Q_id[i, d] for i in I for d in D)\n",
    "    )\n",
    "+d_emissions_minus -  d_emissions_plus) == goal_emissions "
   ]
  },
  {
   "cell_type": "code",
   "execution_count": 40,
   "id": "610b8a80",
   "metadata": {},
   "outputs": [],
   "source": [
    "for c in C:\n",
    "    model += pulp.lpSum(Q_cn[c, n] for n in N) == R_c[c]\n",
    "\n",
    "for n in N:\n",
    "    model += pulp.lpSum(Q_nk[n, k] for k in K) + pulp.lpSum(Q_nr[n, r] for r in R) + pulp.lpSum(Q_ns[n, s] for s in S) == pulp.lpSum(Q_cn[c, n] for c in C)\n",
    "\n",
    "model += pulp.lpSum(Q_nr[n, r] for r in R for n in N) == delta * pulp.lpSum(Q_cn[c, n] for c in C for n in N)\n",
    "model += pulp.lpSum(Q_ri[r, i] for r in R for i in I) == (1 - beta) * pulp.lpSum(Q_nr[n, r] for n in N for r in R)\n",
    "model += pulp.lpSum(Q_ns[n, s] for n in N for s in S) == (gamma + eta) * pulp.lpSum(Q_cn[c, n] for c in C for n in N)\n",
    "model += pulp.lpSum(Q_nk[n, k] for n in N for k in K) == lambda_ * pulp.lpSum(Q_cn[c, n] for c in C for n in N)\n",
    "model += pulp.lpSum(Q_sk[s, k] for s in S for k in K) == gamma * pulp.lpSum(Q_cn[c, n] for c in C for n in N)\n",
    "model += pulp.lpSum(Q_sc[s, c] for s in S for c in C) == eta * pulp.lpSum(Q_cn[c, n] for c in C for n in N)\n",
    "model += pulp.lpSum(Q_id[i, d] for i in I for d in D) == pulp.lpSum(Q_ri[r, i] for r in R for i in I)\n",
    "model += pulp.lpSum(Q_dk[d, k] for d in D for k in K) == pulp.lpSum(Q_id[i, d] for i in I for d in D)\n",
    "\n",
    "\n",
    "for n in N:\n",
    "    model += pulp.lpSum(Q_cn[c, n] for c in C) <= Cap_n[n] * X_n[n]\n",
    "\n",
    "for r in R:\n",
    "    model += pulp.lpSum(Q_nr[n, r] for n in N) <= Cap_r[r] * X_r[r]\n",
    "\n",
    "for s in S:\n",
    "    model += pulp.lpSum(Q_ns[n, s] for n in N) <= Cap_s[s] * X_s[s]\n",
    "\n",
    "for i in I:\n",
    "    model += pulp.lpSum(Q_ri[r, i] for r in R) <= Cap_i[i]\n",
    "\n",
    "for d in D:\n",
    "    model += pulp.lpSum(Q_id[i, d] for i in I) <= Cap_d[d]\n",
    "    \n",
    "model+= C_EH * (pulp.lpSum(Q_ri[r, i] for r in R for i in I) +pulp.lpSum(Q_id[i, d] for i in I for d in D)) <= C_EH_Max\n",
    "\n",
    "\n",
    "model += lambda_ + delta + gamma + eta == 1\n",
    "\n",
    "for c in C:\n",
    "    model += pulp.lpSum(Q_kc[k, c] for k in K) >= D_c[c]"
   ]
  },
  {
   "cell_type": "raw",
   "id": "6b218032",
   "metadata": {},
   "source": [
    "Solve"
   ]
  },
  {
   "cell_type": "code",
   "execution_count": 41,
   "id": "49b4797f",
   "metadata": {},
   "outputs": [
    {
     "data": {
      "text/plain": [
       "1"
      ]
     },
     "execution_count": 41,
     "metadata": {},
     "output_type": "execute_result"
    }
   ],
   "source": [
    "model.solve()"
   ]
  },
  {
   "cell_type": "raw",
   "id": "5495b6a6",
   "metadata": {},
   "source": [
    "Status "
   ]
  },
  {
   "cell_type": "code",
   "execution_count": 42,
   "id": "86dcce77",
   "metadata": {},
   "outputs": [
    {
     "name": "stdout",
     "output_type": "stream",
     "text": [
      "Status: Optimal\n",
      "Objective Value: 744.2\n"
     ]
    }
   ],
   "source": [
    "print(\"Status:\", pulp.LpStatus[model.status])\n",
    "print(\"Objective Value:\", pulp.value(model.objective))"
   ]
  },
  {
   "cell_type": "raw",
   "id": "3651ba83",
   "metadata": {},
   "source": [
    "Output"
   ]
  },
  {
   "cell_type": "code",
   "execution_count": 43,
   "id": "6d4d6d42",
   "metadata": {},
   "outputs": [
    {
     "name": "stdout",
     "output_type": "stream",
     "text": [
      "Q_cn_('A',_'N1') = 180.0\n",
      "Q_cn_('A',_'N2') = 20.0\n",
      "Q_cn_('B',_'N2') = 150.0\n",
      "Q_cn_('C',_'N2') = 180.0\n",
      "Q_dk_('d1',_'K2') = 47.7\n",
      "Q_id_('I1',_'d2') = 47.7\n",
      "Q_kc_('K1',_'C') = 18.0\n",
      "Q_kc_('K2',_'A') = 15.0\n",
      "Q_kc_('K2',_'B') = 20.0\n",
      "Q_nk_('N2',_'K1') = 106.0\n",
      "Q_nr_('N2',_'R1') = 53.0\n",
      "Q_ns_('N1',_'S2') = 180.0\n",
      "Q_ns_('N2',_'S2') = 191.0\n",
      "Q_ri_('R2',_'I1') = 47.7\n",
      "Q_sc_('S2',_'C') = 159.0\n",
      "Q_sk_('S2',_'K2') = 212.0\n",
      "X_n_N1 = 1.0\n",
      "X_n_N2 = 1.0\n",
      "X_r_R1 = 1.0\n",
      "X_s_S2 = 1.0\n",
      "d_cost_minus = 2810.0\n",
      "d_emissions_plus = 744.2\n"
     ]
    }
   ],
   "source": [
    "for v in model.variables():\n",
    "    if v.varValue > 0:\n",
    "        print(v.name, \"=\", v.varValue)\n"
   ]
  },
  {
   "cell_type": "code",
   "execution_count": null,
   "id": "e968c6f2",
   "metadata": {},
   "outputs": [],
   "source": []
  }
 ],
 "metadata": {
  "kernelspec": {
   "display_name": "Python 3 (ipykernel)",
   "language": "python",
   "name": "python3"
  },
  "language_info": {
   "codemirror_mode": {
    "name": "ipython",
    "version": 3
   },
   "file_extension": ".py",
   "mimetype": "text/x-python",
   "name": "python",
   "nbconvert_exporter": "python",
   "pygments_lexer": "ipython3",
   "version": "3.10.7"
  }
 },
 "nbformat": 4,
 "nbformat_minor": 5
}
