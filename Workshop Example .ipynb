{
 "cells": [
  {
   "cell_type": "raw",
   "id": "18194c25",
   "metadata": {},
   "source": [
    "1."
   ]
  },
  {
   "cell_type": "raw",
   "id": "1f57f332",
   "metadata": {},
   "source": [
    "import necessary libraries"
   ]
  },
  {
   "cell_type": "code",
   "execution_count": 1,
   "id": "6f454882",
   "metadata": {},
   "outputs": [],
   "source": [
    "from pulp import LpProblem, LpMaximize, LpVariable, lpSum, LpStatus, listSolvers, LpSolverDefault"
   ]
  },
  {
   "cell_type": "raw",
   "id": "96140f17",
   "metadata": {},
   "source": [
    "Define the problem"
   ]
  },
  {
   "cell_type": "code",
   "execution_count": 2,
   "id": "066a4a17",
   "metadata": {},
   "outputs": [],
   "source": [
    "prob = LpProblem(\"Maximize_Profit\", LpMaximize)"
   ]
  },
  {
   "cell_type": "raw",
   "id": "548823f4",
   "metadata": {},
   "source": [
    "Define the variables"
   ]
  },
  {
   "cell_type": "code",
   "execution_count": 3,
   "id": "d69f9ff2",
   "metadata": {},
   "outputs": [],
   "source": [
    "x1 = LpVariable(\"P1\", lowBound=0, cat=\"Integer\")\n",
    "x2 = LpVariable(\"P2\", lowBound=0, cat=\"Integer\")"
   ]
  },
  {
   "cell_type": "raw",
   "id": "9e848f4e",
   "metadata": {},
   "source": [
    "Define the Objective Function"
   ]
  },
  {
   "cell_type": "code",
   "execution_count": 4,
   "id": "ea579c8e",
   "metadata": {},
   "outputs": [],
   "source": [
    "prob += 40 * x1 + 30 * x2"
   ]
  },
  {
   "cell_type": "raw",
   "id": "f80641d5",
   "metadata": {},
   "source": [
    "Add Constraints:"
   ]
  },
  {
   "cell_type": "code",
   "execution_count": 5,
   "id": "7384058d",
   "metadata": {},
   "outputs": [],
   "source": [
    "prob += 2 * x1 + x2 <= 120"
   ]
  },
  {
   "cell_type": "code",
   "execution_count": 6,
   "id": "410365f6",
   "metadata": {},
   "outputs": [],
   "source": [
    "prob += x1 + 2 * x2 <= 100"
   ]
  },
  {
   "cell_type": "raw",
   "id": "b16ad669",
   "metadata": {},
   "source": [
    "Solve the model"
   ]
  },
  {
   "cell_type": "code",
   "execution_count": 7,
   "id": "d1dfa09b",
   "metadata": {},
   "outputs": [
    {
     "data": {
      "text/plain": [
       "1"
      ]
     },
     "execution_count": 7,
     "metadata": {},
     "output_type": "execute_result"
    }
   ],
   "source": [
    "prob.solve()"
   ]
  },
  {
   "cell_type": "code",
   "execution_count": 8,
   "id": "86d42c1e",
   "metadata": {},
   "outputs": [
    {
     "name": "stdout",
     "output_type": "stream",
     "text": [
      "Status: Optimal\n"
     ]
    }
   ],
   "source": [
    "print(\"Status:\", LpStatus[prob.status])"
   ]
  },
  {
   "cell_type": "code",
   "execution_count": 9,
   "id": "38f1d6d5",
   "metadata": {},
   "outputs": [
    {
     "name": "stdout",
     "output_type": "stream",
     "text": [
      "Status: 1\n",
      "Optimal Total Profit: 2660.0\n",
      "Number of P1 to produce: 47.0\n",
      "Number of P2 to produce: 26.0\n"
     ]
    }
   ],
   "source": [
    "print(\"Status:\", prob.status) \n",
    "print(\"Optimal Total Profit:\", prob.objective.value())\n",
    "print(f\"Number of P1 to produce: {x1.value()}\")\n",
    "print(f\"Number of P2 to produce: {x2.value()}\")"
   ]
  },
  {
   "cell_type": "raw",
   "id": "da069d54",
   "metadata": {},
   "source": [
    "2. Assignment problem"
   ]
  },
  {
   "cell_type": "raw",
   "id": "85ca65f3",
   "metadata": {},
   "source": [
    "Using Pulp"
   ]
  },
  {
   "cell_type": "code",
   "execution_count": 10,
   "id": "97c0e6a7",
   "metadata": {},
   "outputs": [],
   "source": [
    "from pulp import LpProblem, LpMinimize, LpVariable, lpSum, LpStatus, listSolvers, LpSolverDefault"
   ]
  },
  {
   "cell_type": "code",
   "execution_count": 11,
   "id": "e3c3b3d5",
   "metadata": {},
   "outputs": [],
   "source": [
    "cost_matrix = [\n",
    "    [500, 400, 600],  \n",
    "    [300, 450, 350],  \n",
    "    [600, 300, 400],  \n",
    "]"
   ]
  },
  {
   "cell_type": "code",
   "execution_count": 12,
   "id": "fd09fb59",
   "metadata": {},
   "outputs": [],
   "source": [
    "num_trucks = 3  \n",
    "num_zones = 3   "
   ]
  },
  {
   "cell_type": "code",
   "execution_count": 13,
   "id": "bbcdc3c0",
   "metadata": {},
   "outputs": [
    {
     "data": {
      "text/plain": [
       "range(0, 3)"
      ]
     },
     "execution_count": 13,
     "metadata": {},
     "output_type": "execute_result"
    }
   ],
   "source": [
    "range(num_trucks)"
   ]
  },
  {
   "cell_type": "code",
   "execution_count": 14,
   "id": "1422171f",
   "metadata": {},
   "outputs": [
    {
     "data": {
      "text/plain": [
       "3"
      ]
     },
     "execution_count": 14,
     "metadata": {},
     "output_type": "execute_result"
    }
   ],
   "source": [
    "a=\"abc\"\n",
    "len(a)"
   ]
  },
  {
   "cell_type": "raw",
   "id": "7c461c86",
   "metadata": {},
   "source": [
    "Define the problem"
   ]
  },
  {
   "cell_type": "code",
   "execution_count": 15,
   "id": "49eb661a",
   "metadata": {},
   "outputs": [],
   "source": [
    "prob = LpProblem(\"TruckAssignment\", LpMinimize)"
   ]
  },
  {
   "cell_type": "raw",
   "id": "949adfd0",
   "metadata": {},
   "source": [
    "Decision variable"
   ]
  },
  {
   "cell_type": "code",
   "execution_count": 16,
   "id": "a3dc72d1",
   "metadata": {},
   "outputs": [],
   "source": [
    "x = LpVariable.dicts(\"x\", (range(num_trucks), range(num_zones)), cat=\"Binary\")"
   ]
  },
  {
   "cell_type": "raw",
   "id": "cf7f979f",
   "metadata": {},
   "source": [
    "Objective function"
   ]
  },
  {
   "cell_type": "code",
   "execution_count": 17,
   "id": "f2be7b0b",
   "metadata": {},
   "outputs": [],
   "source": [
    "prob += lpSum(cost_matrix[i][j] * x[i][j] for i in range(num_trucks) for j in range(num_zones))"
   ]
  },
  {
   "cell_type": "code",
   "execution_count": 18,
   "id": "8c9cf131",
   "metadata": {},
   "outputs": [
    {
     "data": {
      "text/plain": [
       "400"
      ]
     },
     "execution_count": 18,
     "metadata": {},
     "output_type": "execute_result"
    }
   ],
   "source": [
    "cost_matrix[2][2]"
   ]
  },
  {
   "cell_type": "raw",
   "id": "2b139428",
   "metadata": {},
   "source": [
    "Constarint:"
   ]
  },
  {
   "cell_type": "code",
   "execution_count": 19,
   "id": "14d1dbe9",
   "metadata": {},
   "outputs": [],
   "source": [
    "for i in range(num_trucks):\n",
    "    prob += lpSum(x[i][j] for j in range(num_zones)) == 1"
   ]
  },
  {
   "cell_type": "code",
   "execution_count": 20,
   "id": "e9faeb5c",
   "metadata": {},
   "outputs": [],
   "source": [
    "for j in range(num_zones):\n",
    "    prob += lpSum(x[i][j] for i in range(num_trucks)) == 1"
   ]
  },
  {
   "cell_type": "code",
   "execution_count": 21,
   "id": "6f27b542",
   "metadata": {},
   "outputs": [
    {
     "data": {
      "text/plain": [
       "1"
      ]
     },
     "execution_count": 21,
     "metadata": {},
     "output_type": "execute_result"
    }
   ],
   "source": [
    "prob.solve()"
   ]
  },
  {
   "cell_type": "code",
   "execution_count": 22,
   "id": "110b6918",
   "metadata": {},
   "outputs": [
    {
     "data": {
      "text/plain": [
       "1100.0"
      ]
     },
     "execution_count": 22,
     "metadata": {},
     "output_type": "execute_result"
    }
   ],
   "source": [
    "prob.objective.value()"
   ]
  },
  {
   "cell_type": "code",
   "execution_count": 23,
   "id": "5ac870ce",
   "metadata": {},
   "outputs": [
    {
     "name": "stdout",
     "output_type": "stream",
     "text": [
      "[0.0, 1.0, 0.0]\n",
      "[1.0, 0.0, 0.0]\n",
      "[0.0, 0.0, 1.0]\n"
     ]
    }
   ],
   "source": [
    "for i in range(num_trucks):\n",
    "    row = [x[i][j].value() for j in range(num_zones)]\n",
    "    print(row)"
   ]
  },
  {
   "cell_type": "raw",
   "id": "459dc169",
   "metadata": {},
   "source": [
    "3. Multi Objective Optimization. "
   ]
  },
  {
   "cell_type": "code",
   "execution_count": 24,
   "id": "d3f894e9",
   "metadata": {},
   "outputs": [],
   "source": [
    "from pulp import LpProblem, LpMaximize, LpVariable, lpSum"
   ]
  },
  {
   "cell_type": "code",
   "execution_count": 25,
   "id": "9c7a7771",
   "metadata": {},
   "outputs": [],
   "source": [
    "prob = LpProblem(\"Multi-objective_Optimization\", LpMaximize)"
   ]
  },
  {
   "cell_type": "code",
   "execution_count": 26,
   "id": "8d355ad1",
   "metadata": {},
   "outputs": [],
   "source": [
    "x1 = LpVariable(\"x1\", lowBound=0)\n",
    "x2 = LpVariable(\"x2\", lowBound=0)"
   ]
  },
  {
   "cell_type": "code",
   "execution_count": 27,
   "id": "fe982982",
   "metadata": {},
   "outputs": [],
   "source": [
    "objective_1 = 2 * x1 + 3 * x2\n",
    "objective_2 = 4 * x1 - 2 * x2"
   ]
  },
  {
   "cell_type": "code",
   "execution_count": 28,
   "id": "30848dd8",
   "metadata": {},
   "outputs": [],
   "source": [
    "w=0.9"
   ]
  },
  {
   "cell_type": "code",
   "execution_count": 29,
   "id": "97af4206",
   "metadata": {},
   "outputs": [],
   "source": [
    "weighted_objective = w * objective_1 + (1 - w) * objective_2"
   ]
  },
  {
   "cell_type": "code",
   "execution_count": 30,
   "id": "7f36794d",
   "metadata": {},
   "outputs": [],
   "source": [
    "prob += weighted_objective"
   ]
  },
  {
   "cell_type": "code",
   "execution_count": 31,
   "id": "77ec2bd1",
   "metadata": {},
   "outputs": [],
   "source": [
    "prob += 2 * x1 + x2 <= 15\n",
    "prob += x1 + x2 <= 10\n"
   ]
  },
  {
   "cell_type": "code",
   "execution_count": 32,
   "id": "5188162b",
   "metadata": {},
   "outputs": [
    {
     "data": {
      "text/plain": [
       "1"
      ]
     },
     "execution_count": 32,
     "metadata": {},
     "output_type": "execute_result"
    }
   ],
   "source": [
    "prob.solve()"
   ]
  },
  {
   "cell_type": "code",
   "execution_count": 33,
   "id": "7adc5a1a",
   "metadata": {},
   "outputs": [
    {
     "data": {
      "text/plain": [
       "25.0"
      ]
     },
     "execution_count": 33,
     "metadata": {},
     "output_type": "execute_result"
    }
   ],
   "source": [
    "prob.objective.value()"
   ]
  },
  {
   "cell_type": "code",
   "execution_count": 34,
   "id": "e8228c78",
   "metadata": {},
   "outputs": [
    {
     "name": "stdout",
     "output_type": "stream",
     "text": [
      "Status: Optimal\n",
      "x1 = 0.0\n",
      "x2 = 10.0\n"
     ]
    }
   ],
   "source": [
    "print(f\"Status: {LpStatus[prob.status]}\")\n",
    "print(f\"x1 = {x1.varValue}\")\n",
    "print(f\"x2 = {x2.varValue}\")"
   ]
  },
  {
   "cell_type": "raw",
   "id": "fb70d9f3",
   "metadata": {},
   "source": [
    "4. RL"
   ]
  },
  {
   "cell_type": "code",
   "execution_count": 35,
   "id": "c581219b",
   "metadata": {},
   "outputs": [],
   "source": [
    "customer_zones = [1, 2, 3, 4, 5]\n",
    "collection_centers = [1, 2, 3]"
   ]
  },
  {
   "cell_type": "code",
   "execution_count": 36,
   "id": "f101a0fc",
   "metadata": {},
   "outputs": [],
   "source": [
    "P = {1: 100, 2: 150, 3: 120, 4: 130, 5: 140}"
   ]
  },
  {
   "cell_type": "code",
   "execution_count": 37,
   "id": "1a4e089c",
   "metadata": {},
   "outputs": [],
   "source": [
    "C = {1: 300, 2: 380, 3: 350}"
   ]
  },
  {
   "cell_type": "code",
   "execution_count": 38,
   "id": "54f4e733",
   "metadata": {},
   "outputs": [],
   "source": [
    "F = {1: 500, 2: 600, 3: 700}"
   ]
  },
  {
   "cell_type": "code",
   "execution_count": 39,
   "id": "62618fcc",
   "metadata": {},
   "outputs": [],
   "source": [
    "T = { (1, 1): 2, (1, 2): 3, (1, 3): 4,  \n",
    "      (2, 1): 3, (2, 2): 2, (2, 3): 5,\n",
    "      (3, 1): 1, (3, 2): 4, (3, 3): 3,\n",
    "      (4, 1): 2, (4, 2): 3, (4, 3): 2,\n",
    "      (5, 1): 4, (5, 2): 1, (5, 3): 3 }"
   ]
  },
  {
   "cell_type": "code",
   "execution_count": 40,
   "id": "4ac8466a",
   "metadata": {},
   "outputs": [],
   "source": [
    "model = LpProblem(\"Reverse_Logistics_Network\", LpMinimize)"
   ]
  },
  {
   "cell_type": "code",
   "execution_count": 41,
   "id": "1d9665c5",
   "metadata": {},
   "outputs": [],
   "source": [
    "Q = LpVariable.dicts(\"Q\", (customer_zones, collection_centers), lowBound=0, cat=\"Continuous\")\n",
    "x = LpVariable.dicts(\"x\", collection_centers, cat=\"Binary\")"
   ]
  },
  {
   "cell_type": "code",
   "execution_count": 42,
   "id": "cbbfc7d1",
   "metadata": {},
   "outputs": [],
   "source": [
    "Transportation_cost = lpSum(T[j, i] * Q[j][i] for j in customer_zones for i in collection_centers)"
   ]
  },
  {
   "cell_type": "code",
   "execution_count": 43,
   "id": "33a39efe",
   "metadata": {},
   "outputs": [],
   "source": [
    "Estab_cost = lpSum(F[i] * x[i] for i in collection_centers)"
   ]
  },
  {
   "cell_type": "code",
   "execution_count": 44,
   "id": "7585f62a",
   "metadata": {},
   "outputs": [],
   "source": [
    "model += Transportation_cost + Estab_cost"
   ]
  },
  {
   "cell_type": "code",
   "execution_count": 45,
   "id": "1cc5ba01",
   "metadata": {},
   "outputs": [],
   "source": [
    "for j in customer_zones:\n",
    "    model += lpSum(Q[j][i] for i in collection_centers) == P[j]"
   ]
  },
  {
   "cell_type": "code",
   "execution_count": 46,
   "id": "6d73469c",
   "metadata": {},
   "outputs": [],
   "source": [
    "for i in collection_centers:\n",
    "    model += lpSum(Q[j][i] for j in customer_zones) <= C[i] * x[i]"
   ]
  },
  {
   "cell_type": "code",
   "execution_count": 47,
   "id": "511a7610",
   "metadata": {},
   "outputs": [
    {
     "data": {
      "text/plain": [
       "1"
      ]
     },
     "execution_count": 47,
     "metadata": {},
     "output_type": "execute_result"
    }
   ],
   "source": [
    "model.solve()"
   ]
  },
  {
   "cell_type": "code",
   "execution_count": 48,
   "id": "639649bc",
   "metadata": {},
   "outputs": [
    {
     "name": "stdout",
     "output_type": "stream",
     "text": [
      "Optimal Total Cost: 2170.0\n",
      "Q_11: 100.0\n",
      "Q_12: 0.0\n",
      "Q_13: 0.0\n",
      "Q_21: 0.0\n",
      "Q_22: 150.0\n",
      "Q_23: 0.0\n",
      "Q_31: 120.0\n",
      "Q_32: 0.0\n",
      "Q_33: 0.0\n",
      "Q_41: 80.0\n",
      "Q_42: 50.0\n",
      "Q_43: 0.0\n",
      "Q_51: 0.0\n",
      "Q_52: 140.0\n",
      "Q_53: 0.0\n",
      "Collection Centers Opened (x_i):\n",
      "x_1: 1.0\n",
      "x_2: 1.0\n",
      "x_3: 0.0\n"
     ]
    }
   ],
   "source": [
    "if model.status == 1:\n",
    "    print(\"Optimal Total Cost:\",model.objective.value())\n",
    "    for j in customer_zones:\n",
    "        for i in collection_centers:\n",
    "            print(f\"Q_{j}{i}: {Q[j][i].varValue}\")\n",
    "    print(\"Collection Centers Opened (x_i):\")       \n",
    "    for i in collection_centers:\n",
    "        print(f\"x_{i}: {x[i].varValue}\")   \n",
    "else:\n",
    "    print('No optimal solution found')"
   ]
  },
  {
   "cell_type": "code",
   "execution_count": null,
   "id": "5b9d0dcc",
   "metadata": {},
   "outputs": [],
   "source": []
  }
 ],
 "metadata": {
  "kernelspec": {
   "display_name": "Python 3 (ipykernel)",
   "language": "python",
   "name": "python3"
  },
  "language_info": {
   "codemirror_mode": {
    "name": "ipython",
    "version": 3
   },
   "file_extension": ".py",
   "mimetype": "text/x-python",
   "name": "python",
   "nbconvert_exporter": "python",
   "pygments_lexer": "ipython3",
   "version": "3.10.7"
  }
 },
 "nbformat": 4,
 "nbformat_minor": 5
}
